{
 "metadata": {
  "name": "",
  "signature": "sha256:afb3da002b2e73762f9827a34be9fba1068a426c557ecc866bb75b549092608a"
 },
 "nbformat": 3,
 "nbformat_minor": 0,
 "worksheets": [
  {
   "cells": [
    {
     "cell_type": "code",
     "collapsed": false,
     "input": [
      "import requests\n",
      "import ast\n",
      "import json\n",
      "import math\n",
      "import numpy as np\n",
      "import datetime\n",
      "import matplotlib\n",
      "import matplotlib.pyplot as plt\n",
      "%matplotlib inline\n"
     ],
     "language": "python",
     "metadata": {},
     "outputs": [],
     "prompt_number": 1
    },
    {
     "cell_type": "code",
     "collapsed": false,
     "input": [
      "datasetName      = \"on_time_performance\"\n",
      "payloadDimension = \"dep_delay\"\n",
      "initialTime      = 0\n",
      "finalTime        = 0\n",
      "stepSize         = 24*3600\n",
      "threshold        = 0"
     ],
     "language": "python",
     "metadata": {},
     "outputs": [],
     "prompt_number": 2
    },
    {
     "cell_type": "code",
     "collapsed": false,
     "input": [
      "#get parameters\n",
      "r=requests.get(\"http://localhost:7000/api/schema/dataset=\" + datasetName )\n",
      "schema = json.loads(r.text)\n",
      "numIndexDimensions = len(schema['index_dimensions'])\n",
      "for i in xrange(numIndexDimensions):\n",
      "    dimension = schema['index_dimensions'][i]\n",
      "    if(dimension[\"type\"] == \"temporal\"):\n",
      "        #print i,dimension[\"hint\"]\n",
      "        tokens      = dimension[\"hint\"].split(\"|\")\n",
      "        initialTime = int(tokens[0].strip())\n",
      "        finalTime   = int(tokens[1].strip())+stepSize\n",
      "        \n",
      "finalTime = 1514764800\n"
     ],
     "language": "python",
     "metadata": {},
     "outputs": [],
     "prompt_number": 3
    },
    {
     "cell_type": "code",
     "collapsed": false,
     "input": [
      "queryPrefix = \"http://localhost:7000/api/\"\n",
      "pipelinePrefix = \"pipeline/\"\n",
      "joinString  = \"join=\" + \"right_join\" + \"/\"\n",
      "thresholdString = \"threshold=\" + str(threshold) + \"/\"\n",
      "sourceString = \"source/aggr=average.\"+ payloadDimension + \"_g/dataset=\" + datasetName + \"/\" + \\\n",
      "                \"const=origin_airport.tile.(%d:%d:%d:%d)/group=origin_airport/\"\n",
      "destinationString = \"destination/aggr=inverse.\" + payloadDimension + \"_t.($)/dataset=on_time_performance/\" + \\\n",
      "                     \"const=origin_airport.tile.(%d:%d:%d:%d)/group=origin_airport/\" "
     ],
     "language": "python",
     "metadata": {},
     "outputs": [],
     "prompt_number": 4
    },
    {
     "cell_type": "code",
     "collapsed": false,
     "input": [
      "auxArray = []\n",
      "def getQueryString(x,y,z,r,timeString):\n",
      "    return queryPrefix + pipelinePrefix + joinString + thresholdString + \\\n",
      "            sourceString%(x,y,z,r) + \"/\" + timeString + \"/\" + destinationString%(x,y,z,r) \n",
      "\n",
      "def findStrangenessCoef(start,end):\n",
      "    timeConstraint = \"const=crs_dep_time.interval.(\" + str(start) + \":\" + str(end) + \")\"\n",
      "    xMin = 604\n",
      "    xMax = 604\n",
      "    yMin = 770\n",
      "    yMax = 770\n",
      "    z = 11\n",
      "    r = 5\n",
      "            \n",
      "    result = {\"numNegativeEntries\":0,\"negativeEntries\":0,\"depthEntries\":0, \"numEntries\":0,\"nonNegativeEntries\":[]}\n",
      "    for x in xrange(xMin,xMax+1):\n",
      "        for y in xrange(yMin,yMax+1):\n",
      "            queryString = getQueryString(x,y,z,r,timeConstraint)   \n",
      "            response = requests.get(queryString) \n",
      "            entries  = json.loads(response.text)           \n",
      "            numEntries = len(entries[0])\n",
      "            for i in xrange(numEntries):\n",
      "                entry = entries[0][i]\n",
      "                auxArray.append(entry)\n",
      "                if entry[4] < 0:\n",
      "                    result[\"numNegativeEntries\"] += 1\n",
      "                    result[\"negativeEntries\"] += entry[4]\n",
      "                else:\n",
      "                    result[\"numEntries\"] += 1\n",
      "                    depthValue = entry[4]#math.fabs(entry[4]-0.5)\n",
      "                    result[\"nonNegativeEntries\"].append(depthValue)\n",
      "                    result[\"depthEntries\"] += depthValue\n",
      "    return result"
     ],
     "language": "python",
     "metadata": {},
     "outputs": [],
     "prompt_number": 5
    },
    {
     "cell_type": "code",
     "collapsed": false,
     "input": [
      "numTimeSteps = (finalTime - initialTime)/stepSize\n",
      "results = []\n",
      "for i in xrange(numTimeSteps):\n",
      "    start = initialTime + i * stepSize\n",
      "    end   = start + stepSize\n",
      "    value = findStrangenessCoef(start,end)\n",
      "    value[\"index\"] = i\n",
      "    value[\"time\"] = start\n",
      "    results.append(value)"
     ],
     "language": "python",
     "metadata": {},
     "outputs": [],
     "prompt_number": 6
    },
    {
     "cell_type": "code",
     "collapsed": false,
     "input": [
      "print \"************** Max Depth\" \n",
      "sortedResult = sorted(results, key=lambda k: math.fabs(0.5-np.mean(k['nonNegativeEntries'])))\n",
      "\n",
      "for i in xrange(10):    \n",
      "    entry = sortedResult[364-i]\n",
      "    print datetime.datetime.utcfromtimestamp(entry[\"time\"]), entry[\"depthEntries\"]\n",
      "\n",
      "\n"
     ],
     "language": "python",
     "metadata": {},
     "outputs": [
      {
       "output_type": "stream",
       "stream": "stdout",
       "text": [
        "************** Max Depth\n",
        "2017-05-25 00:00:00 0.9436647892\n",
        "2017-12-15 00:00:00 0.936564922333\n",
        "2017-04-06 00:00:00 0.931349098682\n",
        "2017-06-19 00:00:00 0.926184296608\n",
        "2017-08-18 00:00:00 0.923483848572\n",
        "2017-01-07 00:00:00 0.919681966305\n",
        "2017-03-28 00:00:00 0.919323801994\n",
        "2017-08-22 00:00:00 0.901939868927\n",
        "2017-10-24 00:00:00 0.89884608984\n",
        "2017-07-07 00:00:00 0.894015848637\n"
       ]
      },
      {
       "output_type": "stream",
       "stream": "stderr",
       "text": [
        "/usr/local/lib/python2.7/dist-packages/numpy/core/fromnumeric.py:2909: RuntimeWarning: Mean of empty slice.\n",
        "  out=out, **kwargs)\n",
        "/usr/local/lib/python2.7/dist-packages/numpy/core/_methods.py:80: RuntimeWarning: invalid value encountered in double_scalars\n",
        "  ret = ret.dtype.type(ret / rcount)\n"
       ]
      }
     ],
     "prompt_number": 7
    },
    {
     "cell_type": "code",
     "collapsed": false,
     "input": [
      "plt.hist([t[\"depthEntries\"] for t in results])\n",
      "#plt.hist([t[\"numNegativeEntries\"] for t in results])"
     ],
     "language": "python",
     "metadata": {},
     "outputs": [
      {
       "metadata": {},
       "output_type": "pyout",
       "prompt_number": 8,
       "text": [
        "(array([   1.,    0.,    0.,    2.,    5.,   29.,   47.,  139.,  103.,   39.]),\n",
        " array([ 0.        ,  0.09436648,  0.18873296,  0.28309944,  0.37746592,\n",
        "         0.47183239,  0.56619887,  0.66056535,  0.75493183,  0.84929831,\n",
        "         0.94366479]),\n",
        " <a list of 10 Patch objects>)"
       ]
      },
      {
       "metadata": {},
       "output_type": "display_data",
       "png": "[encoded data removed]",
       "text": [
        "<matplotlib.figure.Figure at 0x7f8af1cd8850>"
       ]
      }
     ],
     "prompt_number": 8
    },
    {
     "cell_type": "code",
     "collapsed": false,
     "input": [
      "xs = [math.fabs(np.median(t[\"nonNegativeEntries\"])-0.5) for t in results]\n",
      "ys = [t[\"numNegativeEntries\"] for t in results]\n",
      "f = open(\"strangeDaysJFK2017.csv\",\"w\")\n",
      "f.write(\"t,x,y\\n\")\n",
      "for i in xrange(len(xs)):\n",
      "    tStamp = (initialTime + i*stepSize)\n",
      "    f.write(\"%d,%f,%f\\n\"%(tStamp,xs[i],ys[i]))\n",
      "f.close()"
     ],
     "language": "python",
     "metadata": {},
     "outputs": [],
     "prompt_number": 11
    },
    {
     "cell_type": "code",
     "collapsed": false,
     "input": [
      "plt.plot(xrange(365),[math.fabs(t-0.5) for t in xs])"
     ],
     "language": "python",
     "metadata": {},
     "outputs": [
      {
       "metadata": {},
       "output_type": "pyout",
       "prompt_number": 10,
       "text": [
        "[<matplotlib.lines.Line2D at 0x7f8abf099910>]"
       ]
      },
      {
       "metadata": {},
       "output_type": "display_data",
       "png": "[encoded data removed]",
       "text": [
        "<matplotlib.figure.Figure at 0x7f8abf186750>"
       ]
      }
     ],
     "prompt_number": 10
    },
    {
     "cell_type": "code",
     "collapsed": false,
     "input": [
      "specialDays = set([1009152000,1009238400,1000252800,1009756800])\n",
      "colors = []\n",
      "for i in xrange(numTimeSteps):\n",
      "    day = (initialTime + i*stepSize)\n",
      "    if day in specialDays:\n",
      "        colors.append(\"red\")\n",
      "        plt.annotate(str(i),[xs[i],ys[i]])\n",
      "        print \"day\",day,xs[i],ys[i]\n",
      "    else:\n",
      "        colors.append(\"b\")\n",
      "        plt.annotate(str(i),[xs[i],ys[i]])\n",
      "\n",
      "plt.scatter(xs,ys,c=colors)\n"
     ],
     "language": "python",
     "metadata": {},
     "outputs": [
      {
       "metadata": {},
       "output_type": "pyout",
       "prompt_number": 16,
       "text": [
        "<matplotlib.collections.PathCollection at 0x7f4f2a698710>"
       ]
      },
      {
       "metadata": {},
       "output_type": "display_data",
       "png": "[encoded data removed]",
       "text": [
        "<matplotlib.figure.Figure at 0x7f4f2a759d90>"
       ]
      }
     ],
     "prompt_number": 16
    },
    {
     "cell_type": "code",
     "collapsed": false,
     "input": [
      "tStamp = (initialTime + 21*stepSize)\n",
      "print str(tStamp)+\":\"+str(tStamp+stepSize)\n",
      "datetime.datetime.utcfromtimestamp(tStamp)\n",
      "datetime.datetime.utcfromtimestamp(tStamp)\n"
     ],
     "language": "python",
     "metadata": {},
     "outputs": [
      {
       "output_type": "stream",
       "stream": "stdout",
       "text": [
        "1485043200:1485129600\n"
       ]
      },
      {
       "metadata": {},
       "output_type": "pyout",
       "prompt_number": 29,
       "text": [
        "datetime.datetime(2017, 1, 22, 0, 0)"
       ]
      }
     ],
     "prompt_number": 29
    },
    {
     "cell_type": "code",
     "collapsed": false,
     "input": [
      "numTimeSteps"
     ],
     "language": "python",
     "metadata": {},
     "outputs": [
      {
       "metadata": {},
       "output_type": "pyout",
       "prompt_number": 24,
       "text": [
        "365"
       ]
      }
     ],
     "prompt_number": 24
    },
    {
     "cell_type": "code",
     "collapsed": false,
     "input": [
      "r = requests.get(\"http://localhost:7001/api/pipeline/join=right_join/threshold=0/source/aggr=average.arr_delay_g/dataset=on_time_performance/\n",
      "                 const=origin_airport.tile.(9:11:5:5)/group=origin_airport/const=crs_dep_time.interval.(1000166400:1000252800)/destination/aggr=inverse.arr_delay_t.($)/dataset=on_time_performance/const=origin_airport.tile.(9:11:5:5)/group=origin_airport/const=crs_dep_time.interval.(978307200:1009756800)\")\n",
      "x = json.loads(r.text)\n",
      "x[0][12][4]<0"
     ],
     "language": "python",
     "metadata": {},
     "outputs": [
      {
       "metadata": {},
       "output_type": "pyout",
       "prompt_number": 20,
       "text": [
        "True"
       ]
      }
     ],
     "prompt_number": 20
    },
    {
     "cell_type": "code",
     "collapsed": false,
     "input": [
      "findStrangenessCoef(1000166400, 1000252800)"
     ],
     "language": "python",
     "metadata": {},
     "outputs": [
      {
       "output_type": "stream",
       "stream": "stdout",
       "text": [
        "[[[316,369,10,-1.692307710647583,0.30376702547073367],[312,373,10,-0.7096773982048035,0.5351284146308899],[291,375,10,-1.0222222805023194,0.5755413174629211],[295,375,10,-1.774193525314331,0.5792249441146851],[288,376,10,-1.2711864709854127,0.4455758035182953],[308,376,10,-0.6666666865348816,0.39527395367622378],[302,377,10,-1.4583333730697632,0.4300578832626343],[310,378,10,-0.5425790548324585,0.41886046528816225],[307,379,10,1.0,0.7688880562782288],[305,380,10,-0.7653061151504517,0.4596281349658966],[308,381,10,0.27586206793785097,0.6923276782035828],[303,370,10,-1.4615384340286255,0.5229466557502747],[294,378,10,\"NaN\",-1.0],[293,379,10,\"NaN\",-1.0],[295,379,10,\"NaN\",-1.0],[296,382,10,4.0,0.8642728328704834],[301,382,10,-1.25,0.625629186630249],[302,383,10,1.185185194015503,0.6744548678398132]]]\n",
        "http://localhost:7001/api/pipeline/join=right_join/threshold=0/source/aggr=average.dep_delay_g/dataset=on_time_performance/const=origin_airport.tile.(9:11:5:5)/group=origin_airport//const=crs_dep_time.interval.(1000166400:1000252800)/destination/aggr=inverse.dep_delay_t.($)/dataset=on_time_performance/const=origin_airport.tile.(9:11:5:5)/group=origin_airport/\n"
       ]
      },
      {
       "metadata": {},
       "output_type": "pyout",
       "prompt_number": 29,
       "text": [
        "{'depthEntries': 26.279244638979435,\n",
        " 'negativeEntries': -14.0,\n",
        " 'numEntries': 207,\n",
        " 'numNegativeEntries': 14}"
       ]
      }
     ],
     "prompt_number": 29
    },
    {
     "cell_type": "code",
     "collapsed": false,
     "input": [
      "range(0,1)"
     ],
     "language": "python",
     "metadata": {},
     "outputs": [
      {
       "metadata": {},
       "output_type": "pyout",
       "prompt_number": 9,
       "text": [
        "[0]"
       ]
      }
     ],
     "prompt_number": 9
    },
    {
     "cell_type": "code",
     "collapsed": false,
     "input": [],
     "language": "python",
     "metadata": {},
     "outputs": []
    }
   ],
   "metadata": {}
  }
 ]
}