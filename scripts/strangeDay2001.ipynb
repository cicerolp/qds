{
 "metadata": {
  "name": "",
  "signature": "sha256:59457be29e31f3148931a5bc4c4ee1c0d3f1f9c53e2bf749fa820480ed5b42a2"
 },
 "nbformat": 3,
 "nbformat_minor": 0,
 "worksheets": [
  {
   "cells": [
    {
     "cell_type": "code",
     "collapsed": false,
     "input": [
      "import requests\n",
      "import ast\n",
      "import json\n",
      "import math\n",
      "import numpy as np\n",
      "import datetime\n",
      "import matplotlib\n",
      "import matplotlib.pyplot as plt\n",
      "%matplotlib inline\n"
     ],
     "language": "python",
     "metadata": {},
     "outputs": [],
     "prompt_number": 169
    },
    {
     "cell_type": "code",
     "collapsed": false,
     "input": [
      "datasetName      = \"on_time_performance\"\n",
      "payloadDimension = \"dep_delay\"\n",
      "initialTime      = 0\n",
      "finalTime        = 0\n",
      "stepSize         = 24*3600\n",
      "threshold        = 0"
     ],
     "language": "python",
     "metadata": {},
     "outputs": [],
     "prompt_number": 171
    },
    {
     "cell_type": "code",
     "collapsed": false,
     "input": [
      "#get parameters\n",
      "r=requests.get(\"http://localhost:7001/api/schema/dataset=\" + datasetName )\n",
      "schema = json.loads(r.text)\n",
      "numIndexDimensions = len(schema['index_dimensions'])\n",
      "for i in xrange(numIndexDimensions):\n",
      "    dimension = schema['index_dimensions'][i]\n",
      "    if(dimension[\"type\"] == \"temporal\"):\n",
      "        #print i,dimension[\"hint\"]\n",
      "        tokens      = dimension[\"hint\"].split(\"|\")\n",
      "        initialTime = int(tokens[0].strip())\n",
      "        finalTime   = int(tokens[1].strip())+stepSize\n",
      "        \n",
      "print initialTime,finalTime"
     ],
     "language": "python",
     "metadata": {},
     "outputs": [
      {
       "output_type": "stream",
       "stream": "stdout",
       "text": [
        "1483228800 1514851200\n"
       ]
      }
     ],
     "prompt_number": 172
    },
    {
     "cell_type": "code",
     "collapsed": false,
     "input": [
      "queryPrefix = \"http://localhost:7001/api/\"\n",
      "pipelinePrefix = \"pipeline/\"\n",
      "joinString  = \"join=\" + \"right_join\" + \"/\"\n",
      "thresholdString = \"threshold=\" + str(threshold) + \"/\"\n",
      "sourceString = \"source/aggr=average.\"+ payloadDimension + \"_g/dataset=\" + datasetName + \"/\" + \\\n",
      "                \"const=origin_airport.tile.(%d:%d:%d:%d)/group=origin_airport/\"\n",
      "destinationString = \"destination/aggr=inverse.\" + payloadDimension + \"_t.($)/dataset=on_time_performance/\" + \\\n",
      "                     \"const=origin_airport.tile.(%d:%d:%d:%d)/group=origin_airport/\" "
     ],
     "language": "python",
     "metadata": {},
     "outputs": [],
     "prompt_number": 173
    },
    {
     "cell_type": "code",
     "collapsed": false,
     "input": [
      "auxArray = []\n",
      "def getQueryString(x,y,z,r,timeString):\n",
      "    return queryPrefix + pipelinePrefix + joinString + thresholdString + \\\n",
      "            sourceString%(x,y,z,r) + \"/\" + timeString + \"/\" + destinationString%(x,y,z,r) \n",
      "\n",
      "def findStrangenessCoef(start,end):\n",
      "    timeConstraint = \"const=crs_dep_time.interval.(\" + str(start) + \":\" + str(end) + \")\"\n",
      "    xMin = 3\n",
      "    xMax = 10\n",
      "    yMin = 10\n",
      "    yMax = 15\n",
      "    z = 5\n",
      "    r = 5\n",
      "            \n",
      "    result = {\"numNegativeEntries\":0,\"negativeEntries\":0,\"depthEntries\":0, \"numEntries\":0,\"nonNegativeEntries\":[]}\n",
      "    for x in xrange(xMin,xMax+1):\n",
      "        for y in xrange(yMin,yMax+1):\n",
      "            queryString = getQueryString(x,y,z,r,timeConstraint)   \n",
      "            response = requests.get(queryString) \n",
      "            entries  = json.loads(response.text)           \n",
      "            numEntries = len(entries[0])\n",
      "            for i in xrange(numEntries):\n",
      "                entry = entries[0][i]\n",
      "                auxArray.append(entry)\n",
      "                if entry[4] < 0:\n",
      "                    result[\"numNegativeEntries\"] += 1\n",
      "                    result[\"negativeEntries\"] += entry[4]\n",
      "                else:\n",
      "                    result[\"numEntries\"] += 1\n",
      "                    depthValue = entry[4]#math.fabs(entry[4]-0.5)\n",
      "                    result[\"nonNegativeEntries\"].append(depthValue)\n",
      "                    result[\"depthEntries\"] += depthValue\n",
      "    return result"
     ],
     "language": "python",
     "metadata": {},
     "outputs": [],
     "prompt_number": 174
    },
    {
     "cell_type": "code",
     "collapsed": false,
     "input": [
      "numTimeSteps = (finalTime - initialTime)/stepSize\n",
      "results = []\n",
      "for i in xrange(numTimeSteps):\n",
      "    start = initialTime + i * stepSize\n",
      "    end   = start + stepSize\n",
      "    value = findStrangenessCoef(start,end)\n",
      "    value[\"index\"] = i\n",
      "    value[\"time\"] = start\n",
      "    results.append(value)"
     ],
     "language": "python",
     "metadata": {},
     "outputs": [],
     "prompt_number": 175
    },
    {
     "cell_type": "code",
     "collapsed": false,
     "input": [
      "print \"************** Max Depth\" \n",
      "sortedResult = sorted(results, key=lambda k: k['depthEntries'])\n",
      "\n",
      "for i in xrange(10):    \n",
      "    entry = sortedResult[364-i]\n",
      "    print datetime.datetime.utcfromtimestamp(entry[\"time\"]), entry[\"depthEntries\"]\n",
      "\n",
      "print \"************** Sorted by #Negative Entries\"\n",
      "sortedResult = sorted(results, key=lambda k: k['numNegativeEntries'])\n",
      "    \n",
      "for i in xrange(10):    \n",
      "    entry = sortedResult[364-i]\n",
      "    print datetime.datetime.utcfromtimestamp(entry[\"time\"]), entry[\"negativeEntries\"]\n",
      "\n",
      "print \"************** Sorted by Total Coef #weird weighting\"\n",
      "sortedResult = sorted(results, key=lambda k: k['negativeEntries']+k['depthEntries'])\n",
      "    \n",
      "for i in xrange(10):    \n",
      "    entry = sortedResult[i]\n",
      "    print datetime.datetime.utcfromtimestamp(entry[\"time\"]), entry[\"depthEntries\"]\n"
     ],
     "language": "python",
     "metadata": {},
     "outputs": [
      {
       "output_type": "stream",
       "stream": "stdout",
       "text": [
        "************** Max Depth\n",
        "2017-12-26 00:00:00 215.169541139\n",
        "2017-07-24 00:00:00 215.06117779\n",
        "2017-12-27 00:00:00 214.154688545\n",
        "2017-01-08 00:00:00 213.455068469\n",
        "2017-06-19 00:00:00 213.386507943\n",
        "2017-03-13 00:00:00 212.391529411\n",
        "2017-01-03 00:00:00 211.623250693\n",
        "2017-08-04 00:00:00 211.571816567\n",
        "2017-04-06 00:00:00 211.111794136\n",
        "2017-07-14 00:00:00 209.495282978\n",
        "************** Sorted by #Negative Entries\n",
        "2017-11-24 00:00:00 -39.0\n",
        "2017-11-23 00:00:00 -36.0\n",
        "2017-11-18 00:00:00 -35.0\n",
        "2017-11-08 00:00:00 -35.0\n",
        "2017-11-01 00:00:00 -35.0\n",
        "2017-10-31 00:00:00 -35.0\n",
        "2017-10-29 00:00:00 -35.0\n",
        "2017-11-29 00:00:00 -34.0\n",
        "2017-11-11 00:00:00 -34.0\n",
        "2017-11-07 00:00:00 -34.0\n",
        "************** Sorted by Total Coef #weird weighting\n",
        "2018-01-01 00:00:00 7.36191799492\n",
        "2017-11-24 00:00:00 110.202400229\n",
        "2017-11-23 00:00:00 115.411762065\n",
        "2017-12-02 00:00:00 117.130484923\n",
        "2017-11-29 00:00:00 130.264589781\n",
        "2017-11-11 00:00:00 131.362100016\n",
        "2017-10-31 00:00:00 132.909918906\n",
        "2017-11-30 00:00:00 133.650029233\n",
        "2017-09-23 00:00:00 131.788847515\n",
        "2017-09-03 00:00:00 131.353911379\n"
       ]
      }
     ],
     "prompt_number": 176
    },
    {
     "cell_type": "code",
     "collapsed": false,
     "input": [
      "plt.hist([t[\"depthEntries\"] for t in results])\n",
      "plt.hist([t[\"numNegativeEntries\"] for t in results])"
     ],
     "language": "python",
     "metadata": {},
     "outputs": [
      {
       "metadata": {},
       "output_type": "pyout",
       "prompt_number": 177,
       "text": [
        "(array([ 365.,    0.,    0.,    0.,    0.,    0.,    0.,    0.,    0.,    1.]),\n",
        " array([  19. ,   45.1,   71.2,   97.3,  123.4,  149.5,  175.6,  201.7,\n",
        "         227.8,  253.9,  280. ]),\n",
        " <a list of 10 Patch objects>)"
       ]
      },
      {
       "metadata": {},
       "output_type": "display_data",
       "png": "[encoded data removed]",
       "text": [
        "<matplotlib.figure.Figure at 0x7ff76b4721d0>"
       ]
      }
     ],
     "prompt_number": 177
    },
    {
     "cell_type": "code",
     "collapsed": false,
     "input": [
      "1+1"
     ],
     "language": "python",
     "metadata": {},
     "outputs": [
      {
       "metadata": {},
       "output_type": "pyout",
       "prompt_number": 178,
       "text": [
        "2"
       ]
      }
     ],
     "prompt_number": 178
    },
    {
     "cell_type": "code",
     "collapsed": false,
     "input": [
      "xs = [math.fabs(np.median(t[\"nonNegativeEntries\"])-0.5) for t in results]\n",
      "ys = [t[\"numNegativeEntries\"] for t in results]"
     ],
     "language": "python",
     "metadata": {},
     "outputs": [],
     "prompt_number": 179
    },
    {
     "cell_type": "code",
     "collapsed": false,
     "input": [
      "specialDays = set([1009152000,1009238400,1000252800,1009756800])\n",
      "colors = []\n",
      "for i in xrange(numTimeSteps):\n",
      "    day = (initialTime + i*stepSize)\n",
      "    if day in specialDays:\n",
      "        colors.append(\"red\")\n",
      "        plt.annotate(str(i),[xs[i],ys[i]])\n",
      "        print \"day\",day,xs[i],ys[i]\n",
      "    else:\n",
      "        colors.append(\"b\")\n",
      "        plt.annotate(str(i),[xs[i],ys[i]])\n",
      "\n",
      "plt.scatter(xs,ys,c=colors)\n"
     ],
     "language": "python",
     "metadata": {},
     "outputs": [
      {
       "metadata": {},
       "output_type": "pyout",
       "prompt_number": 180,
       "text": [
        "<matplotlib.collections.PathCollection at 0x7ff76a6a58d0>"
       ]
      },
      {
       "metadata": {},
       "output_type": "display_data",
       "png": "[encoded data removed]",
       "text": [
        "<matplotlib.figure.Figure at 0x7ff76af18590>"
       ]
      }
     ],
     "prompt_number": 180
    },
    {
     "cell_type": "code",
     "collapsed": false,
     "input": [
      "tStamp = (initialTime + 364*stepSize)\n",
      "print str(tStamp)+\":\"+str(tStamp+stepSize)\n",
      "datetime.datetime.utcfromtimestamp(tStamp)\n",
      "datetime.datetime.utcfromtimestamp(tStamp)\n"
     ],
     "language": "python",
     "metadata": {},
     "outputs": [
      {
       "output_type": "stream",
       "stream": "stdout",
       "text": [
        "1514678400:1514764800\n"
       ]
      },
      {
       "metadata": {},
       "output_type": "pyout",
       "prompt_number": 181,
       "text": [
        "datetime.datetime(2017, 12, 31, 0, 0)"
       ]
      }
     ],
     "prompt_number": 181
    },
    {
     "cell_type": "code",
     "collapsed": false,
     "input": [
      "results[253]"
     ],
     "language": "python",
     "metadata": {},
     "outputs": [
      {
       "metadata": {},
       "output_type": "pyout",
       "prompt_number": 111,
       "text": [
        "{'depthEntries': 103.22705223411322,\n",
        " 'index': 253,\n",
        " 'negativeEntries': -14.0,\n",
        " 'nonNegativeEntries': [0.5638889074325562,\n",
        "  0.7544733285903931,\n",
        "  0.29655322432518005,\n",
        "  0.353912353515625,\n",
        "  0.5633448362350464,\n",
        "  0.6785383820533752,\n",
        "  0.38626828789711,\n",
        "  0.5547558069229126,\n",
        "  0.2878643274307251,\n",
        "  0.6123267412185669,\n",
        "  0.2636087238788605,\n",
        "  0.23940739035606384,\n",
        "  0.1643870621919632,\n",
        "  0.48191535472869873,\n",
        "  0.3301003873348236,\n",
        "  0.505996823310852,\n",
        "  0.5143842697143555,\n",
        "  0.5794897079467773,\n",
        "  0.19285526871681213,\n",
        "  0.23450790345668793,\n",
        "  0.40553176403045654,\n",
        "  0.4822182357311249,\n",
        "  0.45164966583251953,\n",
        "  0.39008018374443054,\n",
        "  0.5618768930435181,\n",
        "  0.6474827527999878,\n",
        "  0.6386662721633911,\n",
        "  0.6994701027870178,\n",
        "  0.7945945858955383,\n",
        "  0.4245283007621765,\n",
        "  0.6546391844749451,\n",
        "  0.7208706736564636,\n",
        "  0.7827715277671814,\n",
        "  0.5158730149269104,\n",
        "  0.552768886089325,\n",
        "  0.43579787015914917,\n",
        "  0.5871169567108154,\n",
        "  0.2588975727558136,\n",
        "  0.24023696780204773,\n",
        "  0.2828921675682068,\n",
        "  0.23282353579998016,\n",
        "  0.4449215531349182,\n",
        "  0.215708389878273,\n",
        "  0.19085194170475006,\n",
        "  0.6188380122184753,\n",
        "  0.8097420930862427,\n",
        "  0.5890579223632812,\n",
        "  0.6056875586509705,\n",
        "  0.5298207402229309,\n",
        "  0.748481810092926,\n",
        "  0.48566821217536926,\n",
        "  0.7726362347602844,\n",
        "  0.6154428720474243,\n",
        "  0.6694386601448059,\n",
        "  0.5730666518211365,\n",
        "  0.4370165765285492,\n",
        "  0.6872075200080872,\n",
        "  0.5066913366317749,\n",
        "  0.3493017852306366,\n",
        "  0.42593908309936523,\n",
        "  0.6936977505683899,\n",
        "  0.588000476360321,\n",
        "  0.37274694442749023,\n",
        "  0.44585174322128296,\n",
        "  0.3452478349208832,\n",
        "  0.7312476634979248,\n",
        "  0.36969977617263794,\n",
        "  0.5933622717857361,\n",
        "  0.38952597975730896,\n",
        "  0.63956218957901,\n",
        "  0.6100183129310608,\n",
        "  0.7109275460243225,\n",
        "  0.33687660098075867,\n",
        "  0.43654918670654297,\n",
        "  0.7266538739204407,\n",
        "  0.6209170818328857,\n",
        "  0.6439700126647949,\n",
        "  0.7265946269035339,\n",
        "  0.6598012447357178,\n",
        "  0.6668701767921448,\n",
        "  0.38036006689071655,\n",
        "  0.5724692344665527,\n",
        "  0.5617232918739319,\n",
        "  0.6565634608268738,\n",
        "  0.37641119956970215,\n",
        "  0.6085071563720703,\n",
        "  0.34903842210769653,\n",
        "  0.2566666603088379,\n",
        "  0.5051696300506592,\n",
        "  0.4842144250869751,\n",
        "  0.6329162120819092,\n",
        "  0.4791658818721771,\n",
        "  0.7168943285942078,\n",
        "  0.09561238437891006,\n",
        "  0.18503937125205994,\n",
        "  0.14046819508075714,\n",
        "  0.6038118600845337,\n",
        "  0.7650273442268372,\n",
        "  0.6342955827713013,\n",
        "  0.6082473993301392,\n",
        "  0.6115210652351379,\n",
        "  0.4902132451534271,\n",
        "  0.7816368341445923,\n",
        "  0.4207704961299896,\n",
        "  0.6128684282302856,\n",
        "  0.6915141344070435,\n",
        "  0.5965235233306885,\n",
        "  0.5574902892112732,\n",
        "  0.7494661211967468,\n",
        "  0.6847862005233765,\n",
        "  0.7833793759346008,\n",
        "  0.6252020597457886,\n",
        "  0.4902045726776123,\n",
        "  0.4786958694458008,\n",
        "  0.5707316398620605,\n",
        "  0.7085074186325073,\n",
        "  0.4860173463821411,\n",
        "  0.7577467560768127,\n",
        "  0.48069074749946594,\n",
        "  0.6845934391021729,\n",
        "  0.4200700521469116,\n",
        "  0.509512186050415,\n",
        "  0.4406934380531311,\n",
        "  0.30885541439056396,\n",
        "  0.6736902594566345,\n",
        "  0.46315938234329224,\n",
        "  0.5392588376998901,\n",
        "  0.6152648329734802,\n",
        "  0.6570168137550354,\n",
        "  0.7152255773544312,\n",
        "  0.6115647554397583,\n",
        "  0.5381075739860535,\n",
        "  0.7307835221290588,\n",
        "  0.3338124454021454,\n",
        "  0.6983226537704468,\n",
        "  0.5827456712722778,\n",
        "  0.4841982424259186,\n",
        "  0.6633657813072205,\n",
        "  0.5843793749809265,\n",
        "  0.7137531638145447,\n",
        "  0.5229148864746094,\n",
        "  0.6819852590560913,\n",
        "  0.5830389857292175,\n",
        "  0.7471984028816223,\n",
        "  0.6254305243492126,\n",
        "  0.5257474184036255,\n",
        "  0.6518886685371399,\n",
        "  0.7542786002159119,\n",
        "  0.3956260085105896,\n",
        "  0.7797001004219055,\n",
        "  0.46148648858070374,\n",
        "  0.4076707363128662,\n",
        "  0.41116049885749817,\n",
        "  0.5087369680404663,\n",
        "  0.35883456468582153,\n",
        "  0.5327610373497009,\n",
        "  0.6221139430999756,\n",
        "  0.3827499449253082,\n",
        "  0.43853360414505005,\n",
        "  0.5333592295646667,\n",
        "  0.48205748200416565,\n",
        "  0.30376702547073364,\n",
        "  0.5351284146308899,\n",
        "  0.5755413174629211,\n",
        "  0.5792249441146851,\n",
        "  0.4455758035182953,\n",
        "  0.39527395367622375,\n",
        "  0.4300578832626343,\n",
        "  0.41886046528816223,\n",
        "  0.7688880562782288,\n",
        "  0.4596281349658966,\n",
        "  0.6923276782035828,\n",
        "  0.5229466557502747,\n",
        "  0.8642728328704834,\n",
        "  0.625629186630249,\n",
        "  0.6744548678398132,\n",
        "  0.5090031623840332,\n",
        "  0.1802556961774826,\n",
        "  0.643710196018219,\n",
        "  0.5565416216850281,\n",
        "  0.8054830431938171,\n",
        "  0.4998799264431,\n",
        "  0.284713476896286,\n",
        "  0.49401816725730896,\n",
        "  0.5572432279586792,\n",
        "  0.6694377660751343,\n",
        "  0.7118499279022217,\n",
        "  0.3510420024394989,\n",
        "  0.7245232462882996,\n",
        "  0.7432432174682617,\n",
        "  0.49641191959381104,\n",
        "  0.6293154954910278,\n",
        "  0.609581470489502],\n",
        " 'numEntries': 193,\n",
        " 'numNegativeEntries': 14,\n",
        " 'time': 1000166400}"
       ]
      }
     ],
     "prompt_number": 111
    },
    {
     "cell_type": "code",
     "collapsed": false,
     "input": [
      "r = requests.get(\"http://localhost:7001/api/pipeline/join=right_join/threshold=0/source/aggr=average.arr_delay_g/dataset=on_time_performance/\n",
      "                 const=origin_airport.tile.(9:11:5:5)/group=origin_airport/const=crs_dep_time.interval.(1000166400:1000252800)/destination/aggr=inverse.arr_delay_t.($)/dataset=on_time_performance/const=origin_airport.tile.(9:11:5:5)/group=origin_airport/const=crs_dep_time.interval.(978307200:1009756800)\")\n",
      "x = json.loads(r.text)\n",
      "x[0][12][4]<0"
     ],
     "language": "python",
     "metadata": {},
     "outputs": [
      {
       "metadata": {},
       "output_type": "pyout",
       "prompt_number": 20,
       "text": [
        "True"
       ]
      }
     ],
     "prompt_number": 20
    },
    {
     "cell_type": "code",
     "collapsed": false,
     "input": [
      "findStrangenessCoef(1000166400, 1000252800)"
     ],
     "language": "python",
     "metadata": {},
     "outputs": [
      {
       "output_type": "stream",
       "stream": "stdout",
       "text": [
        "[[[316,369,10,-1.692307710647583,0.30376702547073367],[312,373,10,-0.7096773982048035,0.5351284146308899],[291,375,10,-1.0222222805023194,0.5755413174629211],[295,375,10,-1.774193525314331,0.5792249441146851],[288,376,10,-1.2711864709854127,0.4455758035182953],[308,376,10,-0.6666666865348816,0.39527395367622378],[302,377,10,-1.4583333730697632,0.4300578832626343],[310,378,10,-0.5425790548324585,0.41886046528816225],[307,379,10,1.0,0.7688880562782288],[305,380,10,-0.7653061151504517,0.4596281349658966],[308,381,10,0.27586206793785097,0.6923276782035828],[303,370,10,-1.4615384340286255,0.5229466557502747],[294,378,10,\"NaN\",-1.0],[293,379,10,\"NaN\",-1.0],[295,379,10,\"NaN\",-1.0],[296,382,10,4.0,0.8642728328704834],[301,382,10,-1.25,0.625629186630249],[302,383,10,1.185185194015503,0.6744548678398132]]]\n",
        "http://localhost:7001/api/pipeline/join=right_join/threshold=0/source/aggr=average.dep_delay_g/dataset=on_time_performance/const=origin_airport.tile.(9:11:5:5)/group=origin_airport//const=crs_dep_time.interval.(1000166400:1000252800)/destination/aggr=inverse.dep_delay_t.($)/dataset=on_time_performance/const=origin_airport.tile.(9:11:5:5)/group=origin_airport/\n"
       ]
      },
      {
       "metadata": {},
       "output_type": "pyout",
       "prompt_number": 29,
       "text": [
        "{'depthEntries': 26.279244638979435,\n",
        " 'negativeEntries': -14.0,\n",
        " 'numEntries': 207,\n",
        " 'numNegativeEntries': 14}"
       ]
      }
     ],
     "prompt_number": 29
    },
    {
     "cell_type": "code",
     "collapsed": false,
     "input": [
      "1+1"
     ],
     "language": "python",
     "metadata": {},
     "outputs": [
      {
       "metadata": {},
       "output_type": "pyout",
       "prompt_number": 25,
       "text": [
        "2"
       ]
      }
     ],
     "prompt_number": 25
    },
    {
     "cell_type": "code",
     "collapsed": false,
     "input": [],
     "language": "python",
     "metadata": {},
     "outputs": []
    }
   ],
   "metadata": {}
  }
 ]
}